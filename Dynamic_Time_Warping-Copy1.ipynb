{
 "cells": [
  {
   "cell_type": "markdown",
   "metadata": {},
   "source": [
    "# Dynamic Time Warping\n",
    "\n",
    "Based on:\n",
    "http://nipunbatra.github.io/2014/07/dtw/  "
   ]
  },
  {
   "cell_type": "code",
   "execution_count": 28,
   "metadata": {},
   "outputs": [],
   "source": [
    "import numpy as np\n",
    "import pandas as pd\n",
    "import matplotlib.pyplot as plt\n",
    "import matplotlib \n",
    "import scipy"
   ]
  },
  {
   "cell_type": "code",
   "execution_count": 29,
   "metadata": {
    "scrolled": true
   },
   "outputs": [
    {
     "data": {
      "text/plain": [
       "(88, 20)"
      ]
     },
     "execution_count": 29,
     "metadata": {},
     "output_type": "execute_result"
    }
   ],
   "source": [
    "x=np.loadtxt('hw_hw1_part2_data_input1.txt',skiprows=1)[:,1:]\n",
    "x.shape"
   ]
  },
  {
   "cell_type": "code",
   "execution_count": 30,
   "metadata": {},
   "outputs": [
    {
     "data": {
      "text/plain": [
       "(55, 20)"
      ]
     },
     "execution_count": 30,
     "metadata": {},
     "output_type": "execute_result"
    }
   ],
   "source": [
    "y=np.loadtxt('hw_hw1_part2_data_yes_template.txt',skiprows=1)[:,1:]\n",
    "y.shape"
   ]
  },
  {
   "cell_type": "code",
   "execution_count": 39,
   "metadata": {},
   "outputs": [
    {
     "data": {
      "text/plain": [
       "array([[0, 0, 0, ..., 0, 0, 0],\n",
       "       [0, 0, 0, ..., 0, 0, 0],\n",
       "       [0, 0, 0, ..., 0, 0, 0],\n",
       "       ...,\n",
       "       [0, 0, 0, ..., 0, 0, 0],\n",
       "       [0, 0, 0, ..., 0, 0, 0],\n",
       "       [0, 0, 0, ..., 0, 0, 0]], dtype=object)"
      ]
     },
     "execution_count": 39,
     "metadata": {},
     "output_type": "execute_result"
    }
   ],
   "source": [
    "dist = np.zeros((len(y), len(x)),dtype=object)\n",
    "dist"
   ]
  },
  {
   "cell_type": "code",
   "execution_count": 42,
   "metadata": {},
   "outputs": [],
   "source": [
    "for i in range(len(y)):\n",
    "    for j in range(len(x)):\n",
    "        dist[i,j] = np.sqrt(np.sum(np.square(x[j]-y[i]))) \n",
    "       # d[i,j] = np.sqrt(np.sum(np.square(B[j] - A[i])))"
   ]
  },
  {
   "cell_type": "code",
   "execution_count": 43,
   "metadata": {},
   "outputs": [
    {
     "data": {
      "text/plain": [
       "array([[1.3431041210568895, 0.6716308807671071, 0.4923395677781749, ...,\n",
       "        1.0696127196326715, 0.8469947107272867, 0.8367455766241014],\n",
       "       [1.7614429709757848, 1.0931530450947844, 0.6185335479988131, ...,\n",
       "        1.1395754077725615, 0.9576458948901728, 0.9816061022630208],\n",
       "       [2.2159236471503254, 1.5866322415733267, 1.0371597562574435, ...,\n",
       "        1.3892702904762628, 1.298679949025163, 1.3218260891660445],\n",
       "       ...,\n",
       "       [1.4295559520354564, 1.184298585661572, 1.0698259905236926, ...,\n",
       "        0.3999849872182704, 0.49819154950681366, 0.5244079137465414],\n",
       "       [1.258851679110768, 1.0726762093008309, 1.0916260531885449, ...,\n",
       "        0.4635914796456036, 0.4627126430085956, 0.4789327197007947],\n",
       "       [1.0948981459478322, 0.9248677364899265, 1.080310899695083, ...,\n",
       "        0.5432166786835617, 0.43691975235734076, 0.41786924988565505]],\n",
       "      dtype=object)"
      ]
     },
     "execution_count": 43,
     "metadata": {},
     "output_type": "execute_result"
    }
   ],
   "source": [
    "dist"
   ]
  },
  {
   "cell_type": "code",
   "execution_count": 44,
   "metadata": {},
   "outputs": [
    {
     "data": {
      "text/plain": [
       "(55, 88)"
      ]
     },
     "execution_count": 44,
     "metadata": {},
     "output_type": "execute_result"
    }
   ],
   "source": [
    "distances.shape\n"
   ]
  },
  {
   "cell_type": "code",
   "execution_count": 47,
   "metadata": {},
   "outputs": [],
   "source": [
    "def distance_cost_plot(dist):\n",
    "    im=plt.imshow(distances, interpolation='nearest', cmap='Reds') \n",
    "    plt.gca().invert_yaxis()\n",
    "    plt.xlabel(\"X\")\n",
    "    plt.ylabel(\"Y\")\n",
    "    plt.grid()\n",
    "    plt.colorbar();"
   ]
  },
  {
   "cell_type": "code",
   "execution_count": 49,
   "metadata": {},
   "outputs": [
    {
     "ename": "TypeError",
     "evalue": "Image data of dtype object cannot be converted to float",
     "output_type": "error",
     "traceback": [
      "\u001b[1;31m---------------------------------------------------------------------------\u001b[0m",
      "\u001b[1;31mTypeError\u001b[0m                                 Traceback (most recent call last)",
      "\u001b[1;32m<ipython-input-49-b9fa558fb5a3>\u001b[0m in \u001b[0;36m<module>\u001b[1;34m\u001b[0m\n\u001b[1;32m----> 1\u001b[1;33m \u001b[0mdistance_cost_plot\u001b[0m\u001b[1;33m(\u001b[0m\u001b[0mdist\u001b[0m\u001b[1;33m)\u001b[0m\u001b[1;33m\u001b[0m\u001b[1;33m\u001b[0m\u001b[0m\n\u001b[0m",
      "\u001b[1;32m<ipython-input-47-de89a215a1c0>\u001b[0m in \u001b[0;36mdistance_cost_plot\u001b[1;34m(dist)\u001b[0m\n\u001b[0;32m      1\u001b[0m \u001b[1;32mdef\u001b[0m \u001b[0mdistance_cost_plot\u001b[0m\u001b[1;33m(\u001b[0m\u001b[0mdist\u001b[0m\u001b[1;33m)\u001b[0m\u001b[1;33m:\u001b[0m\u001b[1;33m\u001b[0m\u001b[1;33m\u001b[0m\u001b[0m\n\u001b[1;32m----> 2\u001b[1;33m     \u001b[0mim\u001b[0m\u001b[1;33m=\u001b[0m\u001b[0mplt\u001b[0m\u001b[1;33m.\u001b[0m\u001b[0mimshow\u001b[0m\u001b[1;33m(\u001b[0m\u001b[0mdistances\u001b[0m\u001b[1;33m,\u001b[0m \u001b[0minterpolation\u001b[0m\u001b[1;33m=\u001b[0m\u001b[1;34m'nearest'\u001b[0m\u001b[1;33m,\u001b[0m \u001b[0mcmap\u001b[0m\u001b[1;33m=\u001b[0m\u001b[1;34m'Reds'\u001b[0m\u001b[1;33m)\u001b[0m\u001b[1;33m\u001b[0m\u001b[1;33m\u001b[0m\u001b[0m\n\u001b[0m\u001b[0;32m      3\u001b[0m     \u001b[0mplt\u001b[0m\u001b[1;33m.\u001b[0m\u001b[0mgca\u001b[0m\u001b[1;33m(\u001b[0m\u001b[1;33m)\u001b[0m\u001b[1;33m.\u001b[0m\u001b[0minvert_yaxis\u001b[0m\u001b[1;33m(\u001b[0m\u001b[1;33m)\u001b[0m\u001b[1;33m\u001b[0m\u001b[1;33m\u001b[0m\u001b[0m\n\u001b[0;32m      4\u001b[0m     \u001b[0mplt\u001b[0m\u001b[1;33m.\u001b[0m\u001b[0mxlabel\u001b[0m\u001b[1;33m(\u001b[0m\u001b[1;34m\"X\"\u001b[0m\u001b[1;33m)\u001b[0m\u001b[1;33m\u001b[0m\u001b[1;33m\u001b[0m\u001b[0m\n\u001b[0;32m      5\u001b[0m     \u001b[0mplt\u001b[0m\u001b[1;33m.\u001b[0m\u001b[0mylabel\u001b[0m\u001b[1;33m(\u001b[0m\u001b[1;34m\"Y\"\u001b[0m\u001b[1;33m)\u001b[0m\u001b[1;33m\u001b[0m\u001b[1;33m\u001b[0m\u001b[0m\n",
      "\u001b[1;32m~\\anaconda3\\lib\\site-packages\\matplotlib\\pyplot.py\u001b[0m in \u001b[0;36mimshow\u001b[1;34m(X, cmap, norm, aspect, interpolation, alpha, vmin, vmax, origin, extent, shape, filternorm, filterrad, imlim, resample, url, data, **kwargs)\u001b[0m\n\u001b[0;32m   2675\u001b[0m         \u001b[0mfilternorm\u001b[0m\u001b[1;33m=\u001b[0m\u001b[0mfilternorm\u001b[0m\u001b[1;33m,\u001b[0m \u001b[0mfilterrad\u001b[0m\u001b[1;33m=\u001b[0m\u001b[0mfilterrad\u001b[0m\u001b[1;33m,\u001b[0m \u001b[0mimlim\u001b[0m\u001b[1;33m=\u001b[0m\u001b[0mimlim\u001b[0m\u001b[1;33m,\u001b[0m\u001b[1;33m\u001b[0m\u001b[1;33m\u001b[0m\u001b[0m\n\u001b[0;32m   2676\u001b[0m         resample=resample, url=url, **({\"data\": data} if data is not\n\u001b[1;32m-> 2677\u001b[1;33m         None else {}), **kwargs)\n\u001b[0m\u001b[0;32m   2678\u001b[0m     \u001b[0msci\u001b[0m\u001b[1;33m(\u001b[0m\u001b[0m__ret\u001b[0m\u001b[1;33m)\u001b[0m\u001b[1;33m\u001b[0m\u001b[1;33m\u001b[0m\u001b[0m\n\u001b[0;32m   2679\u001b[0m     \u001b[1;32mreturn\u001b[0m \u001b[0m__ret\u001b[0m\u001b[1;33m\u001b[0m\u001b[1;33m\u001b[0m\u001b[0m\n",
      "\u001b[1;32m~\\anaconda3\\lib\\site-packages\\matplotlib\\__init__.py\u001b[0m in \u001b[0;36minner\u001b[1;34m(ax, data, *args, **kwargs)\u001b[0m\n\u001b[0;32m   1597\u001b[0m     \u001b[1;32mdef\u001b[0m \u001b[0minner\u001b[0m\u001b[1;33m(\u001b[0m\u001b[0max\u001b[0m\u001b[1;33m,\u001b[0m \u001b[1;33m*\u001b[0m\u001b[0margs\u001b[0m\u001b[1;33m,\u001b[0m \u001b[0mdata\u001b[0m\u001b[1;33m=\u001b[0m\u001b[1;32mNone\u001b[0m\u001b[1;33m,\u001b[0m \u001b[1;33m**\u001b[0m\u001b[0mkwargs\u001b[0m\u001b[1;33m)\u001b[0m\u001b[1;33m:\u001b[0m\u001b[1;33m\u001b[0m\u001b[1;33m\u001b[0m\u001b[0m\n\u001b[0;32m   1598\u001b[0m         \u001b[1;32mif\u001b[0m \u001b[0mdata\u001b[0m \u001b[1;32mis\u001b[0m \u001b[1;32mNone\u001b[0m\u001b[1;33m:\u001b[0m\u001b[1;33m\u001b[0m\u001b[1;33m\u001b[0m\u001b[0m\n\u001b[1;32m-> 1599\u001b[1;33m             \u001b[1;32mreturn\u001b[0m \u001b[0mfunc\u001b[0m\u001b[1;33m(\u001b[0m\u001b[0max\u001b[0m\u001b[1;33m,\u001b[0m \u001b[1;33m*\u001b[0m\u001b[0mmap\u001b[0m\u001b[1;33m(\u001b[0m\u001b[0msanitize_sequence\u001b[0m\u001b[1;33m,\u001b[0m \u001b[0margs\u001b[0m\u001b[1;33m)\u001b[0m\u001b[1;33m,\u001b[0m \u001b[1;33m**\u001b[0m\u001b[0mkwargs\u001b[0m\u001b[1;33m)\u001b[0m\u001b[1;33m\u001b[0m\u001b[1;33m\u001b[0m\u001b[0m\n\u001b[0m\u001b[0;32m   1600\u001b[0m \u001b[1;33m\u001b[0m\u001b[0m\n\u001b[0;32m   1601\u001b[0m         \u001b[0mbound\u001b[0m \u001b[1;33m=\u001b[0m \u001b[0mnew_sig\u001b[0m\u001b[1;33m.\u001b[0m\u001b[0mbind\u001b[0m\u001b[1;33m(\u001b[0m\u001b[0max\u001b[0m\u001b[1;33m,\u001b[0m \u001b[1;33m*\u001b[0m\u001b[0margs\u001b[0m\u001b[1;33m,\u001b[0m \u001b[1;33m**\u001b[0m\u001b[0mkwargs\u001b[0m\u001b[1;33m)\u001b[0m\u001b[1;33m\u001b[0m\u001b[1;33m\u001b[0m\u001b[0m\n",
      "\u001b[1;32m~\\anaconda3\\lib\\site-packages\\matplotlib\\cbook\\deprecation.py\u001b[0m in \u001b[0;36mwrapper\u001b[1;34m(*args, **kwargs)\u001b[0m\n\u001b[0;32m    367\u001b[0m                 \u001b[1;34mf\"%(removal)s.  If any parameter follows {name!r}, they \"\u001b[0m\u001b[1;33m\u001b[0m\u001b[1;33m\u001b[0m\u001b[0m\n\u001b[0;32m    368\u001b[0m                 f\"should be pass as keyword, not positionally.\")\n\u001b[1;32m--> 369\u001b[1;33m         \u001b[1;32mreturn\u001b[0m \u001b[0mfunc\u001b[0m\u001b[1;33m(\u001b[0m\u001b[1;33m*\u001b[0m\u001b[0margs\u001b[0m\u001b[1;33m,\u001b[0m \u001b[1;33m**\u001b[0m\u001b[0mkwargs\u001b[0m\u001b[1;33m)\u001b[0m\u001b[1;33m\u001b[0m\u001b[1;33m\u001b[0m\u001b[0m\n\u001b[0m\u001b[0;32m    370\u001b[0m \u001b[1;33m\u001b[0m\u001b[0m\n\u001b[0;32m    371\u001b[0m     \u001b[1;32mreturn\u001b[0m \u001b[0mwrapper\u001b[0m\u001b[1;33m\u001b[0m\u001b[1;33m\u001b[0m\u001b[0m\n",
      "\u001b[1;32m~\\anaconda3\\lib\\site-packages\\matplotlib\\cbook\\deprecation.py\u001b[0m in \u001b[0;36mwrapper\u001b[1;34m(*args, **kwargs)\u001b[0m\n\u001b[0;32m    367\u001b[0m                 \u001b[1;34mf\"%(removal)s.  If any parameter follows {name!r}, they \"\u001b[0m\u001b[1;33m\u001b[0m\u001b[1;33m\u001b[0m\u001b[0m\n\u001b[0;32m    368\u001b[0m                 f\"should be pass as keyword, not positionally.\")\n\u001b[1;32m--> 369\u001b[1;33m         \u001b[1;32mreturn\u001b[0m \u001b[0mfunc\u001b[0m\u001b[1;33m(\u001b[0m\u001b[1;33m*\u001b[0m\u001b[0margs\u001b[0m\u001b[1;33m,\u001b[0m \u001b[1;33m**\u001b[0m\u001b[0mkwargs\u001b[0m\u001b[1;33m)\u001b[0m\u001b[1;33m\u001b[0m\u001b[1;33m\u001b[0m\u001b[0m\n\u001b[0m\u001b[0;32m    370\u001b[0m \u001b[1;33m\u001b[0m\u001b[0m\n\u001b[0;32m    371\u001b[0m     \u001b[1;32mreturn\u001b[0m \u001b[0mwrapper\u001b[0m\u001b[1;33m\u001b[0m\u001b[1;33m\u001b[0m\u001b[0m\n",
      "\u001b[1;32m~\\anaconda3\\lib\\site-packages\\matplotlib\\axes\\_axes.py\u001b[0m in \u001b[0;36mimshow\u001b[1;34m(self, X, cmap, norm, aspect, interpolation, alpha, vmin, vmax, origin, extent, shape, filternorm, filterrad, imlim, resample, url, **kwargs)\u001b[0m\n\u001b[0;32m   5677\u001b[0m                               resample=resample, **kwargs)\n\u001b[0;32m   5678\u001b[0m \u001b[1;33m\u001b[0m\u001b[0m\n\u001b[1;32m-> 5679\u001b[1;33m         \u001b[0mim\u001b[0m\u001b[1;33m.\u001b[0m\u001b[0mset_data\u001b[0m\u001b[1;33m(\u001b[0m\u001b[0mX\u001b[0m\u001b[1;33m)\u001b[0m\u001b[1;33m\u001b[0m\u001b[1;33m\u001b[0m\u001b[0m\n\u001b[0m\u001b[0;32m   5680\u001b[0m         \u001b[0mim\u001b[0m\u001b[1;33m.\u001b[0m\u001b[0mset_alpha\u001b[0m\u001b[1;33m(\u001b[0m\u001b[0malpha\u001b[0m\u001b[1;33m)\u001b[0m\u001b[1;33m\u001b[0m\u001b[1;33m\u001b[0m\u001b[0m\n\u001b[0;32m   5681\u001b[0m         \u001b[1;32mif\u001b[0m \u001b[0mim\u001b[0m\u001b[1;33m.\u001b[0m\u001b[0mget_clip_path\u001b[0m\u001b[1;33m(\u001b[0m\u001b[1;33m)\u001b[0m \u001b[1;32mis\u001b[0m \u001b[1;32mNone\u001b[0m\u001b[1;33m:\u001b[0m\u001b[1;33m\u001b[0m\u001b[1;33m\u001b[0m\u001b[0m\n",
      "\u001b[1;32m~\\anaconda3\\lib\\site-packages\\matplotlib\\image.py\u001b[0m in \u001b[0;36mset_data\u001b[1;34m(self, A)\u001b[0m\n\u001b[0;32m    683\u001b[0m                 not np.can_cast(self._A.dtype, float, \"same_kind\")):\n\u001b[0;32m    684\u001b[0m             raise TypeError(\"Image data of dtype {} cannot be converted to \"\n\u001b[1;32m--> 685\u001b[1;33m                             \"float\".format(self._A.dtype))\n\u001b[0m\u001b[0;32m    686\u001b[0m \u001b[1;33m\u001b[0m\u001b[0m\n\u001b[0;32m    687\u001b[0m         if not (self._A.ndim == 2\n",
      "\u001b[1;31mTypeError\u001b[0m: Image data of dtype object cannot be converted to float"
     ]
    },
    {
     "data": {
      "image/png": "[encoded data removed]",
      "text/plain": [
       "<Figure size 432x288 with 1 Axes>"
      ]
     },
     "metadata": {
      "needs_background": "light"
     },
     "output_type": "display_data"
    }
   ],
   "source": [
    "distance_cost_plot(dist)"
   ]
  },
  {
   "cell_type": "code",
   "execution_count": 12,
   "metadata": {},
   "outputs": [],
   "source": [
    "def distance_cost_plot(distances,xlabel=\"x\",ylabel=\"y\",all_ticks=False,figure=True):\n",
    "    distances=distances.T\n",
    "    if figure:\n",
    "        plt.figure(figsize =(10,10))\n",
    "    plt.imshow(distances, interpolation='nearest', cmap='Greens') \n",
    "    plt.gca().invert_yaxis()\n",
    "    plt.ylabel(ylabel)\n",
    "    plt.xlabel(xlabel)\n",
    "    if all_ticks:\n",
    "        plt.xticks(range(distances.shape[1]),range(distances.shape[1]))\n",
    "        plt.yticks(range(distances.shape[0]),range(distances.shape[0]))\n",
    "    plt.grid()\n",
    "    plt.colorbar();"
   ]
  },
  {
   "cell_type": "code",
   "execution_count": null,
   "metadata": {},
   "outputs": [],
   "source": [
    "def path_cost_p(x, y, accumulated_cost, distances):\n",
    "    \n",
    "    path = [[len(x)-1, len(y)-1]]\n",
    "    \n",
    "    cost = 0\n",
    "    \n",
    "    i = len(x)-1\n",
    "    j = len(y)-1\n",
    "    \n",
    "    while i>0 or j>0:\n",
    "        if i==0:\n",
    "            j = j - 1\n",
    "        elif j==0:\n",
    "            i = i - 1\n",
    "        else:\n",
    "            if accumulated_cost[i-1, j] == min(accumulated_cost[i-1, j-1], accumulated_cost[i-1, j], accumulated_cost[i, j-1]):\n",
    "                i = i - 1\n",
    "            elif accumulated_cost[i, j-1] == min(accumulated_cost[i-1, j-1], accumulated_cost[i-1, j], accumulated_cost[i, j-1]):\n",
    "                j = j - 1\n",
    "            else:\n",
    "                i = i - 1\n",
    "                j = j - 1\n",
    "        path.append([i, j])\n",
    "    for [x, y] in path:\n",
    "        cost = cost +distances[x, y]\n",
    "    return path, cost"
   ]
  },
  {
   "cell_type": "code",
   "execution_count": null,
   "metadata": {},
   "outputs": [],
   "source": [
    "def generates_accumulated_cost_p(x,y,distances):\n",
    "    accumulated_cost = numpy.zeros((len(x), len(y)))\n",
    "    \n",
    "    accumulated_cost[0,0] = distances[0,0]\n",
    "    \n",
    "    for i in range(1, len(x)):\n",
    "        accumulated_cost[i,0] = distances[i, 0] + accumulated_cost[i-1, 0]\n",
    "\n",
    "    for j in range(1, len(y)):\n",
    "        accumulated_cost[0,j] = distances[0,j] + accumulated_cost[0, j-1]\n",
    "        \n",
    "    for i in range(1, len(x)):\n",
    "        for j in range(1, len(y)):\n",
    "            accumulated_cost[i, j] = min(accumulated_cost[i-1, j-1], accumulated_cost[i-1, j], accumulated_cost[i, j-1]) + distances[i, j]\n",
    "            \n",
    "    return accumulated_cost"
   ]
  },
  {
   "cell_type": "code",
   "execution_count": null,
   "metadata": {},
   "outputs": [],
   "source": [
    "def generates_distances2D(x,y):\n",
    "    '''\n",
    "    Generates the distance matrix used with Dynamic Time Warping\n",
    "    '''\n",
    "    # Creates the helper matrix\n",
    "    helper_matrix=numpy.ones((y.shape[0],x.shape[0]))\n",
    "\n",
    "    # Generates (y.shape[0]) copies of each value in original_drawing\n",
    "    x_all=(x[:,0]*helper_matrix)\n",
    "    y_all=(x[:,1]*helper_matrix)\n",
    "\n",
    "    # returns all the distances between original points and generated ones\n",
    "    return (numpy.sqrt((x_all.T-y[:,0])**2+(y_all.T-y[:,1])**2))"
   ]
  },
  {
   "cell_type": "code",
   "execution_count": null,
   "metadata": {},
   "outputs": [],
   "source": [
    "def generates_distances3D(x,y):\n",
    "    '''\n",
    "    Generates the distance matrix used with Dynamic Time Warping\n",
    "    '''\n",
    "    # Creates the helper matrix\n",
    "    helper_matrix=numpy.ones((y.shape[0],x.shape[0]))\n",
    "\n",
    "    # Generates (y.shape[0]) copies of each value in original_drawing\n",
    "    x_all=(x[:,0]*helper_matrix)\n",
    "    y_all=(x[:,1]*helper_matrix)\n",
    "    z_all=(x[:,2]*helper_matrix)\n",
    "\n",
    "    # returns all the distances between original points and generated ones\n",
    "    return (numpy.sqrt((x_all.T-y[:,0])**2+(y_all.T-y[:,1])**2+(z_all.T-y[:,2])**2))"
   ]
  },
  {
   "cell_type": "code",
   "execution_count": null,
   "metadata": {},
   "outputs": [],
   "source": [
    "def generates_distances_N(x,y):\n",
    "    '''\n",
    "    Generates the distance matrix used with Dynamic Time Warping \n",
    "    => for systems with N dimensions\n",
    "    '''\n",
    "    assert len(x.shape)==len(y.shape), \"Inputs must have the same number of columns\"\n",
    "    \n",
    "    if len(x.shape)==1:\n",
    "        x=x.reshape((x.shape[0],1))\n",
    "        y=y.reshape((y.shape[0],1))\n",
    "    \n",
    "    assert x.shape[1]==y.shape[1], \"Inputs must have the same number of columns\" # verifies if the second dimension matches\n",
    "    # Creates the helper matrix\n",
    "    helper_matrix=numpy.ones((y.shape[0],x.shape[0]))\n",
    "\n",
    "    # returns all the distances between original points and generated ones\n",
    "    return (numpy.sqrt(numpy.array([((x[:,i]*helper_matrix).T-y[:,i])**2 for i in range(x.shape[1])]).sum(axis=0)))"
   ]
  },
  {
   "cell_type": "markdown",
   "metadata": {},
   "source": [
    "# Examples"
   ]
  },
  {
   "cell_type": "code",
   "execution_count": null,
   "metadata": {},
   "outputs": [],
   "source": [
    "!head hw_hw1_part2_data_input1.txt"
   ]
  },
  {
   "cell_type": "code",
   "execution_count": null,
   "metadata": {},
   "outputs": [],
   "source": [
    "import numpy as np\n",
    "import matplotlib.pyplot as plt\n",
    "\n",
    "x=numpy.loadtxt('hw_hw1_part2_data_input1.txt',skiprows=1)[:,1:]\n",
    "x.shape"
   ]
  },
  {
   "cell_type": "code",
   "execution_count": null,
   "metadata": {},
   "outputs": [],
   "source": [
    "y=numpy.loadtxt('hw_hw1_part2_data_yes_template.txt',skiprows=1)[:,1:]\n",
    "y.shape"
   ]
  },
  {
   "cell_type": "code",
   "execution_count": null,
   "metadata": {},
   "outputs": [],
   "source": [
    "dist=generates_distances_N(x,y)\n",
    "print(dist)\n",
    "distance_cost_plot(dist)"
   ]
  },
  {
   "cell_type": "code",
   "execution_count": null,
   "metadata": {},
   "outputs": [],
   "source": [
    "accumulated_cost = generates_accumulated_cost_p(x,y,dist)\n",
    "path,cost = path_cost_p(x, y, accumulated_cost, dist)\n",
    "\n",
    "print (accumulated_cost)\n",
    "print (path,cost)\n",
    "\n",
    "distance_cost_plot(accumulated_cost)\n",
    "plt.plot(path[:,0],path[:,1],'o-')\n",
    "plt.show()"
   ]
  },
  {
   "cell_type": "code",
   "execution_count": null,
   "metadata": {},
   "outputs": [],
   "source": [
    "distance_cost_plot(accumulated_cost)\n",
    "plt.plot(path[:,0],path[:,1],'o-')\n",
    "plt.show()"
   ]
  },
  {
   "cell_type": "code",
   "execution_count": null,
   "metadata": {},
   "outputs": [],
   "source": [
    "distance_cost_plot(accumulated_cost)\n",
    "plt.plot(path[:,0],path[:,1],'o-')\n",
    "plt.xlim(0,path[0,0])\n",
    "plt.ylim(0,path[0,1])\n",
    "plt.show()"
   ]
  },
  {
   "cell_type": "code",
   "execution_count": null,
   "metadata": {},
   "outputs": [],
   "source": [
    "x=numpy.loadtxt('hw_hw1_part2_data_input1.txt',skiprows=1)[:,1:]\n",
    "y=numpy.loadtxt('hw_hw1_part2_data_no_template.txt',skiprows=1)[:,1:]\n",
    "dist=generates_distances_N(x,y)\n",
    "print(dist)\n",
    "distance_cost_plot(dist)"
   ]
  },
  {
   "cell_type": "code",
   "execution_count": null,
   "metadata": {},
   "outputs": [],
   "source": [
    "x=numpy.loadtxt('hw_hw1_part2_data_input2.txt',skiprows=1)[:,1:]\n",
    "y=numpy.loadtxt('hw_hw1_part2_data_yes_template.txt',skiprows=1)[:,1:]\n",
    "dist=generates_distances_N(x,y)\n",
    "print(dist)\n",
    "distance_cost_plot(dist)"
   ]
  },
  {
   "cell_type": "code",
   "execution_count": null,
   "metadata": {},
   "outputs": [],
   "source": [
    "x=numpy.loadtxt('hw_hw1_part2_data_input2.txt',skiprows=1)[:,1:]\n",
    "y=numpy.loadtxt('hw_hw1_part2_data_no_template.txt',skiprows=1)[:,1:]\n",
    "dist=generates_distances_N(x,y)\n",
    "print(dist)\n",
    "distance_cost_plot(dist)"
   ]
  },
  {
   "cell_type": "code",
   "execution_count": null,
   "metadata": {},
   "outputs": [],
   "source": [
    "x=numpy.loadtxt('hw_hw1_part2_data_input3.txt',skiprows=1)[:,1:]\n",
    "y=numpy.loadtxt('hw_hw1_part2_data_yes_template.txt',skiprows=1)[:,1:]\n",
    "dist=generates_distances_N(x,y)\n",
    "print(dist)\n",
    "distance_cost_plot(dist)"
   ]
  },
  {
   "cell_type": "code",
   "execution_count": null,
   "metadata": {},
   "outputs": [],
   "source": [
    "x=numpy.loadtxt('hw_hw1_part2_data_input3.txt',skiprows=1)[:,1:]\n",
    "y=numpy.loadtxt('hw_hw1_part2_data_no_template.txt',skiprows=1)[:,1:]\n",
    "dist=generates_distances_N(x,y)\n",
    "print(dist)\n",
    "distance_cost_plot(dist)"
   ]
  },
  {
   "cell_type": "code",
   "execution_count": null,
   "metadata": {},
   "outputs": [],
   "source": [
    "distance_cost_plot(accumulated_cost)\n",
    "plt.plot(path[:,0],path[:,1],'o-')\n",
    "plt.xlim(0,path[0,0])\n",
    "plt.ylim(0,path[0,1])\n",
    "plt.show()"
   ]
  },
  {
   "cell_type": "code",
   "execution_count": null,
   "metadata": {},
   "outputs": [],
   "source": [
    "%%time\n",
    "dist=distances_matrix(x,y)"
   ]
  },
  {
   "cell_type": "code",
   "execution_count": null,
   "metadata": {},
   "outputs": [],
   "source": [
    "%%time\n",
    "accumulated_cost=accumulated_cost_matrix(x,y,dist)"
   ]
  },
  {
   "cell_type": "code",
   "execution_count": null,
   "metadata": {},
   "outputs": [],
   "source": [
    "%%time\n",
    "path,cost = path_cost_calculation(x,y,dist,accumulated_cost)"
   ]
  },
  {
   "cell_type": "code",
   "execution_count": null,
   "metadata": {},
   "outputs": [],
   "source": [
    "distance_cost_plot(accumulated_cost)\n",
    "plt.plot(path[:,0],path[:,1],'o-')\n",
    "plt.xlim(0,path[0,0])\n",
    "plt.ylim(0,path[0,1])\n",
    "plt.show()"
   ]
  },
  {
   "cell_type": "markdown",
   "metadata": {},
   "source": [
    "## Example 6\n",
    "### Reproducing the sin / cosine example from http://nipunbatra.github.io/2014/07/dtw/"
   ]
  },
  {
   "cell_type": "code",
   "execution_count": null,
   "metadata": {},
   "outputs": [],
   "source": [
    "idx = numpy.linspace(0, 6.28, 100)\n",
    "idy = numpy.linspace(0, 6.28, 100)\n",
    "x = numpy.cos(idx)\n",
    "y = numpy.sin(idy)\n",
    "dist=distances_matrix(x,y)\n",
    "distance_cost_plot(dist)"
   ]
  },
  {
   "cell_type": "code",
   "execution_count": null,
   "metadata": {},
   "outputs": [],
   "source": [
    "accumulated_cost = accumulated_cost_matrix(x,y,dist)\n",
    "path,cost = path_cost_calculation(x,y,dist,accumulated_cost)\n",
    "\n",
    "distance_cost_plot(accumulated_cost)\n",
    "plt.plot(path[:,0],path[:,1],'.-')\n",
    "plt.xlim(0,path[0,0])\n",
    "plt.ylim(0,path[0,1])\n",
    "plt.show()"
   ]
  },
  {
   "cell_type": "code",
   "execution_count": null,
   "metadata": {},
   "outputs": [],
   "source": [
    "cost,\\\n",
    "numpy.array([dist[i,j] for i,j in zip(path[:,0],path[:,1])]).sum(),\\\n",
    "numpy.array([accumulated_cost[i,j] for i,j in zip(path[:,0],path[:,1])]).sum(),\\\n",
    "accumulated_cost[-1,-1]/sum(accumulated_cost.shape) # Same cost as in https://pypi.python.org/pypi/dtw/1.0"
   ]
  },
  {
   "cell_type": "code",
   "execution_count": null,
   "metadata": {},
   "outputs": [],
   "source": [
    "plt.plot(x, 'bo-' ,label='x')\n",
    "plt.plot(y, 'g^-', label = 'y')\n",
    "plt.legend();\n",
    "for [map_x, map_y] in path:\n",
    "    plt.plot([map_x, map_y], [x[map_x], y[map_y]], 'r')"
   ]
  },
  {
   "cell_type": "markdown",
   "metadata": {},
   "source": [
    "# Example 7 - Circle vs Cardioid"
   ]
  },
  {
   "cell_type": "code",
   "execution_count": null,
   "metadata": {},
   "outputs": [],
   "source": [
    "t1 = numpy.linspace(0, 2*numpy.pi, 100)\n",
    "t2 = numpy.linspace(0, 2*numpy.pi, 200)\n",
    "\n",
    "dz_start = 50\n",
    "dz_end = 150\n",
    "\n",
    "temp = numpy.copy(t2[dz_start:])\n",
    "t2[dz_start:dz_end]=t2[dz_start]\n",
    "t2=numpy.concatenate((t2[:dz_end],temp))\n",
    "\n",
    "circle = numpy.zeros((100,2))\n",
    "circle[:,1] = numpy.sin(t1)\n",
    "circle[:,0] = numpy.cos(t1)\n",
    "\n",
    "cardioid = numpy.zeros((len(t2),2))\n",
    "cardioid[:,1] = 0.25*(2*numpy.sin(t2)-numpy.sin(2*t2))\n",
    "cardioid[:,0] = 0.25*(2*numpy.cos(t2)-numpy.cos(2*t2))\n",
    "\n",
    "\n",
    "\n",
    "font = {'weight' : 'normal',\n",
    "        'size'   : 25}\n",
    "\n",
    "matplotlib.rc('font', **font)\n",
    "\n",
    "plt.figure(figsize =(10,10))\n",
    "plt.plot(circle[:,0],circle[:,1])\n",
    "plt.plot(cardioid[:,0],cardioid[:,1])\n",
    "plt.xlim(-1.1,1.1)\n",
    "plt.ylim(-1.1,1.1)\n",
    "plt.xlabel(\"x\")\n",
    "plt.ylabel(\"y\")\n",
    "plt.show()\n"
   ]
  },
  {
   "cell_type": "code",
   "execution_count": null,
   "metadata": {},
   "outputs": [],
   "source": [
    "dist = distances_matrix(circle,cardioid)\n",
    "distance_cost_plot(dist,xlabel=\"circle\",ylabel=\"cardioid\")"
   ]
  },
  {
   "cell_type": "code",
   "execution_count": null,
   "metadata": {},
   "outputs": [],
   "source": [
    "accumulated_cost = accumulated_cost_matrix(circle,cardioid,dist)\n",
    "path,cost = path_cost_calculation(circle,cardioid,dist,accumulated_cost)\n",
    "\n",
    "distance_cost_plot(accumulated_cost,xlabel=\"circle\",ylabel=\"cardioid\")\n",
    "plt.plot(path[:,0],path[:,1],'.-')\n",
    "plt.xlim(0,path[0,0])\n",
    "plt.ylim(0,path[0,1])\n",
    "plt.show()"
   ]
  },
  {
   "cell_type": "code",
   "execution_count": null,
   "metadata": {},
   "outputs": [],
   "source": [
    "font = {'weight' : 'normal',\n",
    "        'size'   : 25}\n",
    "\n",
    "matplotlib.rc('font', **font)\n",
    "\n",
    "plt.figure(figsize =(10,10))\n",
    "\n",
    "plt.plot(circle[:,0],circle[:,1], 'bo-' ,label='circle')\n",
    "plt.plot(cardioid[:,0],cardioid[:,1], 'g^-', label = 'cardioid')\n",
    "plt.legend();\n",
    "for [map_c, map_e] in path:\n",
    "    plt.plot([circle[map_c,0],cardioid[map_e,0]],[circle[map_c,1],cardioid[map_e,1]] , 'r')\n",
    "plt.xlim(-1.1,1.1)\n",
    "plt.ylim(-1.1,1.1)\n",
    "plt.show()"
   ]
  },
  {
   "cell_type": "code",
   "execution_count": null,
   "metadata": {},
   "outputs": [],
   "source": [
    "import os\n",
    "\n",
    "font = {'weight' : 'normal',\n",
    "        'size'   : 25}\n",
    "\n",
    "matplotlib.rc('font', **font)\n",
    "\n",
    "plt.figure(figsize =(30,20))\n",
    "plt.subplot2grid((1,3),(0,0),colspan=2)\n",
    "plt.plot(circle[:,0],circle[:,1], 'bo-' ,label='circle', markersize=10)\n",
    "plt.plot(cardioid[:,0],cardioid[:,1], 'g^-', label = 'cardioid', markersize=10)\n",
    "plt.legend();\n",
    "for [map_c, map_e] in path:\n",
    "    plt.plot([circle[map_c,0],cardioid[map_e,0]],[circle[map_c,1],cardioid[map_e,1]] , 'r')\n",
    "plt.xlim(-1.1,1.1)\n",
    "plt.ylim(-1.1,1.1)\n",
    "\n",
    "plt.subplot2grid((1,3),(0,2))\n",
    "distance_cost_plot(accumulated_cost,xlabel=\"circle\",ylabel=\"cardioid\", figure=False)\n",
    "plt.title(\"Accumulated Distance\")\n",
    "plt.plot(path[:,0],path[:,1],'o-')\n",
    "plt.xlim(0,path[0,0])\n",
    "plt.ylim(0,path[0,1])\n",
    "\n",
    "plt.savefig(\"./cardioid_dtw.pdf\", bbox_inches='tight',pad_inches=.1)\n",
    "plt.show()"
   ]
  },
  {
   "cell_type": "markdown",
   "metadata": {},
   "source": [
    "# Example 9 \n",
    "## Tested up to this point using [my latest docker image](https://ricardodeazambuja.com/deep_learning/2019/01/31/tuning_tensorflow_docker_updated/)."
   ]
  },
  {
   "cell_type": "code",
   "execution_count": null,
   "metadata": {},
   "outputs": [],
   "source": [
    "from dtw import dtw\n",
    "# https://pypi.python.org/pypi/dtw/1.0"
   ]
  },
  {
   "cell_type": "code",
   "execution_count": null,
   "metadata": {},
   "outputs": [],
   "source": [
    "dist, cost, path = dtw(x, y)"
   ]
  },
  {
   "cell_type": "code",
   "execution_count": null,
   "metadata": {},
   "outputs": [],
   "source": [
    "dist"
   ]
  },
  {
   "cell_type": "code",
   "execution_count": null,
   "metadata": {},
   "outputs": [],
   "source": [
    "cost_array=[cost[i,j] for i,j in zip(path[0],path[1])]"
   ]
  },
  {
   "cell_type": "code",
   "execution_count": null,
   "metadata": {},
   "outputs": [],
   "source": [
    "numpy.array(cost_array).sum()"
   ]
  },
  {
   "cell_type": "code",
   "execution_count": null,
   "metadata": {},
   "outputs": [],
   "source": [
    "distance_cost_plot(cost)\n",
    "plt.plot(path[0], path[1],'.-')\n",
    "plt.xlim(0,path[0][-1])\n",
    "plt.ylim(0,path[1][-1])\n",
    "plt.show()"
   ]
  },
  {
   "cell_type": "markdown",
   "metadata": {},
   "source": [
    "# Example 8 - Speech recognition?\n",
    "## It's necessary to install portaudio (brew install portaudio) and pyaudio (pip install pyaudio)"
   ]
  },
  {
   "cell_type": "code",
   "execution_count": null,
   "metadata": {},
   "outputs": [],
   "source": [
    "samples = [] # list used to save the different recordings"
   ]
  },
  {
   "cell_type": "code",
   "execution_count": null,
   "metadata": {},
   "outputs": [],
   "source": [
    "# Records directly from the computer microphone\n",
    "\n",
    "# http://stackoverflow.com/a/29722090\n",
    "import pyaudio\n",
    "\n",
    "RATE = 16000\n",
    "RECORD_SECONDS = 2.5\n",
    "CHUNKSIZE = 1024\n",
    "\n",
    "# initialize portaudio\n",
    "p = pyaudio.PyAudio()\n",
    "stream = p.open(format=pyaudio.paInt16, channels=1, rate=RATE, input=True, frames_per_buffer=CHUNKSIZE)\n",
    "\n",
    "frames = [] # A python-list of chunks(numpy.ndarray)\n",
    "for _ in range(0, int(RATE / CHUNKSIZE * RECORD_SECONDS)):\n",
    "    data = stream.read(CHUNKSIZE)\n",
    "    frames.append(numpy.fromstring(data, dtype=numpy.int16))\n",
    "\n",
    "#Convert the list of numpy-arrays into a 1D array (column-wise)\n",
    "numpydata = numpy.hstack(frames)\n",
    "\n",
    "# close stream\n",
    "stream.stop_stream()\n",
    "stream.close()\n",
    "p.terminate()\n",
    "\n",
    "samples.append(numpydata)"
   ]
  },
  {
   "cell_type": "code",
   "execution_count": null,
   "metadata": {},
   "outputs": [],
   "source": [
    "# plot data\n",
    "import matplotlib.pyplot as plt\n",
    "%matplotlib inline\n",
    "\n",
    "for s in samples:\n",
    "    plt.plot(s[8000:26000])\n",
    "plt.show()"
   ]
  },
  {
   "cell_type": "code",
   "execution_count": null,
   "metadata": {},
   "outputs": [],
   "source": [
    "x = (samples[0][8000:26000])[::4]\n",
    "y = (samples[2][8000:26000])[::4]"
   ]
  },
  {
   "cell_type": "code",
   "execution_count": null,
   "metadata": {},
   "outputs": [],
   "source": [
    "dist=distances_matrix(x,y)"
   ]
  },
  {
   "cell_type": "code",
   "execution_count": null,
   "metadata": {},
   "outputs": [],
   "source": [
    "accumulated_cost=accumulated_cost_matrix(x,y,dist)"
   ]
  },
  {
   "cell_type": "code",
   "execution_count": null,
   "metadata": {},
   "outputs": [],
   "source": [
    "path,cost = path_cost_calculation(x,y,dist,accumulated_cost)"
   ]
  },
  {
   "cell_type": "code",
   "execution_count": null,
   "metadata": {},
   "outputs": [],
   "source": [
    "distance_cost_plot(accumulated_cost)\n",
    "plt.plot(path[:,0],path[:,1],'o-')\n",
    "plt.axis('off')\n",
    "plt.xticks([],[])# avoids white spaces\n",
    "plt.yticks([],[])# avoids white spaces\n",
    "plt.title(\"Hello vs Blib blow?\")\n",
    "plt.show()"
   ]
  },
  {
   "cell_type": "code",
   "execution_count": null,
   "metadata": {},
   "outputs": [],
   "source": [
    "x = (samples[0][8000:26000])[::4]\n",
    "y = (samples[1][8000:26000])[::4]"
   ]
  },
  {
   "cell_type": "code",
   "execution_count": null,
   "metadata": {},
   "outputs": [],
   "source": [
    "dist=distances_matrix(x,y)"
   ]
  },
  {
   "cell_type": "code",
   "execution_count": null,
   "metadata": {},
   "outputs": [],
   "source": [
    "accumulated_cost=accumulated_cost_matrix(x,y,dist)"
   ]
  },
  {
   "cell_type": "code",
   "execution_count": null,
   "metadata": {},
   "outputs": [],
   "source": [
    "path,cost = path_cost_calculation(x,y,dist,accumulated_cost)"
   ]
  },
  {
   "cell_type": "code",
   "execution_count": null,
   "metadata": {},
   "outputs": [],
   "source": [
    "distance_cost_plot(accumulated_cost)\n",
    "plt.plot(path[:,0],path[:,1],'o-')\n",
    "plt.axis('off')\n",
    "plt.xticks([],[])# avoids white spaces\n",
    "plt.yticks([],[])# avoids white spaces\n",
    "plt.title(\"Hello vs Hello?\")\n",
    "plt.show()"
   ]
  },
  {
   "cell_type": "markdown",
   "metadata": {
    "collapsed": true
   },
   "source": [
    "Other sources of information about DTW:  \n",
    "https://pypi.python.org/pypi/dtw/1.0  \n",
    "https://github.com/pierre-rouanet/dtw  \n",
    "http://mlpy.sourceforge.net/docs/3.5/dtw.html  \n",
    "http://alexminnaar.com/time-series-classification-and-clustering-with-python.html  \n",
    "http://www.psb.ugent.be/cbd/papers/gentxwarper/DTWalgorithm.htm  \n",
    "https://www.researchgate.net/profile/Pavel_Senin/publication/228785661_Dynamic_Time_Warping_Algorithm_Review/links/02bfe5100f11a7929f000000.pdf  \n",
    "http://insy.ewi.tudelft.nl/content/multi-dimensional-dynamic-time-warping-gesture-recognition  \n",
    "http://epubs.siam.org/doi/pdf/10.1137/1.9781611972757.50  \n",
    "http://www.mblondel.org/journal/2009/08/31/dynamic-time-warping-theory/  \n",
    "http://dx.doi.org/10.1371/journal.pone.0136577  \n",
    "https://docs.google.com/viewer?url=http%3A%2F%2Fwww.psb.ugent.be%2Fcbd%2Fpapers%2Fgentxwarper%2FDTWAlgorithm.ppt  \n",
    "http://www.cs.rutgers.edu/~mlittman/courses/lightai03/DDTW-2001.pdf  \n",
    "http://www.ece.ucsb.edu/Faculty/Rabiner/ece259/Reprints/132_dtw.pdf"
   ]
  },
  {
   "cell_type": "code",
   "execution_count": null,
   "metadata": {},
   "outputs": [],
   "source": []
  }
 ],
 "metadata": {
  "kernelspec": {
   "display_name": "Python 3",
   "language": "python",
   "name": "python3"
  },
  "language_info": {
   "codemirror_mode": {
    "name": "ipython",
    "version": 3
   },
   "file_extension": ".py",
   "mimetype": "text/x-python",
   "name": "python",
   "nbconvert_exporter": "python",
   "pygments_lexer": "ipython3",
   "version": "3.7.4"
  }
 },
 "nbformat": 4,
 "nbformat_minor": 1
}
